{
 "cells": [
  {
   "cell_type": "markdown",
   "metadata": {},
   "source": [
    "\n",
    "# RSCAM Computer Assessment 1\n",
    "\n",
    "\n",
    "In this assessment you will use Python to solve some ordinary differential equations, to compute solutions numerically using discretization methods, to graph their solutions and to explore the behavior of differential equations and discretizations under changes in parameters.\n",
    "\n",
    "Note that there are exercises embedded below, worth a total of 50 marks. After each exercise you will see a number in brackets that indicates the value of that exercise.\n",
    "\n",
    "It is unlikely that you will complete the entire notebook in 2 hours.  Any remaining work can be done after the workshop.  Please check the learn web page for the assessment upload link and deadline.\n",
    "\n",
    "After each graph that you produce you will wish to add a cell containing a brief comment. You are also asked to provide 'discussion' paragraphs in the notebook.  One way to do that is to use colour to highlight these observations, by embedding some markdown. \"\\<span style=\"color:blue\">Observations: this is a comment.\\<\\/span\\>\".\n",
    "\n",
    "At the start of any coding, we need a few commands to load relevant packages. We also introduce some abbreviations, \"np\" for numpy and \"plt\" for pyplot."
   ]
  },
  {
   "cell_type": "code",
   "execution_count": 16,
   "metadata": {
    "ExecuteTime": {
     "end_time": "2023-10-21T14:27:43.238953Z",
     "start_time": "2023-10-21T14:27:42.757762Z"
    }
   },
   "outputs": [],
   "source": [
    "import numpy as np\n",
    "import math\n",
    "import matplotlib.pyplot as plt"
   ]
  },
  {
   "cell_type": "markdown",
   "metadata": {
    "tags": []
   },
   "source": [
    "# Comparing Euler and Leapfrog Methods on the Trimer\n",
    "Euler's method computes an approximate trajectory of a differential equation.  We can easily compute numerical solutions using Euler's method for any differential equation.  If we do this for several different stepsizes, we get different discrete approximations to the solution trajectory.  Another numerical method, which is particular good for conservative systems, is the leapfrog scheme.   Here you will compare the two methods by implementing them and simulating the dynamics of a simple model, the Lennard-Jones trimer."
   ]
  },
  {
   "cell_type": "markdown",
   "metadata": {
    "tags": []
   },
   "source": [
    "## The Lennard-Jones Trimer\n",
    "The LJ trimer is a model for a system of three atoms interacting through a pairwise Lennard-Jones potential. \n",
    "$$\n",
    "\\varphi_{\\rm LJ}(r) = r^{-12} - r^{-6}.\n",
    "$$\n",
    "By considering special 'isosceles' configurations of the three atoms, we can simplify the equations for the LJ Trimer to a model with just two degrees of freedom, as mentioned in the slides of Lecture 1.\n",
    "\n",
    "The Hamiltonian is then\n",
    "$$ H = \\frac{p_x^2}{4} + \\frac{9p_y^2}{4} + 2\\varphi_{\\rm LJ}\\left (\\sqrt{x^2+y^2}\\right ) + \\varphi_{\\rm LJ}(2x)$$.\n",
    "The kinetic energy is $$K(p) = \\frac{p_x^2}{4} + \\frac{9p_y^2}{4}$$.   This is in the form $K(p) = p^T M^{-1} p/2$ where the mass matrix is $$M = {\\rm diag}(2, 2/9)$$.   The potential energy function is $$U(q) = 2\\varphi_{\\rm LJ}\\left (\\sqrt{x^2+y^2} \\right ) + \\varphi_{\\rm LJ}\\left (2x \\right)$$.\n",
    "\n",
    "**Exercise 1a [2 marks]**: write out and then code the equations of motion of the trimer from the Hamiltonian.  In Python there is a distinction between row and column vectors.  We will use column vectors.   Let $q = [x, y]^T$ and $p=[p_x, p_y]^T$.  You will need to code a small function to compute the force which is the **negative gradient** of the potential energy function.  The input of the force function is a 2d column vector q and the output is a 2d column vector F.  A template is provided below for you to fill in."
   ]
  },
  {
   "cell_type": "code",
   "execution_count": 17,
   "outputs": [],
   "source": [
    "def phi_lj(r):\n",
    "    y = r**(-12) - r**(-6)\n",
    "    return y"
   ],
   "metadata": {
    "collapsed": false,
    "ExecuteTime": {
     "end_time": "2023-10-21T14:27:44.909981Z",
     "start_time": "2023-10-21T14:27:44.906073Z"
    }
   }
  },
  {
   "cell_type": "code",
   "execution_count": 18,
   "outputs": [],
   "source": [
    "def phi_lj_der(r):\n",
    "    yp = -12 * r**(-13) + 6 * r**(-7)\n",
    "    return yp"
   ],
   "metadata": {
    "collapsed": false,
    "ExecuteTime": {
     "end_time": "2023-10-21T14:27:45.934407Z",
     "start_time": "2023-10-21T14:27:45.927574Z"
    }
   }
  },
  {
   "cell_type": "code",
   "execution_count": 19,
   "outputs": [],
   "source": [
    "def trimer_force(q):\n",
    "    # This function computes the negative gradient of the Trimer Potential function.\n",
    "    \n",
    "    # Split of x and y from the position vector q\n",
    "    x = q[0]\n",
    "    y = q[1]\n",
    "    \n",
    "    f = np.zeros(q.shape)\n",
    "    \n",
    "    r = np.sqrt(x**2 + y**2)\n",
    "    phi_lj_der_r = phi_lj_der(r)\n",
    "    \n",
    "    der_wrt_x = 2 * phi_lj_der_r * x / r + 2 * phi_lj_der(2 * x)\n",
    "    der_wrt_y = 2 * phi_lj_der_r * y / r\n",
    "    \n",
    "    f[0] = -der_wrt_x\n",
    "    f[1] = -der_wrt_y\n",
    "    \n",
    "    return f"
   ],
   "metadata": {
    "collapsed": false,
    "ExecuteTime": {
     "end_time": "2023-10-21T14:27:46.655582Z",
     "start_time": "2023-10-21T14:27:46.652030Z"
    }
   }
  },
  {
   "cell_type": "markdown",
   "metadata": {},
   "source": [
    "Next, we need to code the two methods using the same calling sequence.  This way we can easily compare them.  "
   ]
  },
  {
   "cell_type": "markdown",
   "metadata": {},
   "source": [
    "**Exercise 1b [2 marks]**: Write a function euler_step that takes a pair of input (column) vectors q and p, and a stepsize h, and produces an updated pair of vectors Q,P which are obtained by applying a single step of the Euler method."
   ]
  },
  {
   "cell_type": "code",
   "execution_count": 20,
   "outputs": [],
   "source": [
    "def euler_step(q, p, h, force_field=trimer_force):\n",
    "    # Unpack the input vectors q and p\n",
    "    q_x, q_y = q\n",
    "    p_x, p_y = p\n",
    "\n",
    "    # Compute the force at the current position\n",
    "    f = force_field(q)\n",
    "\n",
    "    # Update the position and momentum vectors using the Euler method\n",
    "    Q = np.array([q_x + h * p_x, q_y + h * p_y])\n",
    "    P = np.array([p_x + h * f[0], p_y + h * f[1]])\n",
    "\n",
    "    return Q, P"
   ],
   "metadata": {
    "collapsed": false,
    "ExecuteTime": {
     "end_time": "2023-10-21T14:27:49.399087Z",
     "start_time": "2023-10-21T14:27:49.394218Z"
    }
   }
  },
  {
   "cell_type": "markdown",
   "metadata": {},
   "source": [
    "The final piece of the puzzle is a routine which computes a sequence of steps, with a given numerical method, starting from a given initial condition.  The resulting trajectory is stored in a pair of matrices QQ and PP, where the columns of QQ are the position vectors at the successive timesteps and the columns of PP are the momentum vectors at successive timesteps."
   ]
  },
  {
   "cell_type": "markdown",
   "metadata": {},
   "source": [
    "**Exercise 1c [2 marks]:** Write a function compute_trajectory which takes as inputs an initial position vector q0, an initial momentum vector p0, a stepsize h, a function one_step (in the form of the code for euler_step), a function force_field (in the form of the trimer_force routine given above, and a number of steps, N.  The output of this routine should be two matrices with N+1 columns and 2 rows, one for positions and one for momenta. The first column of the position array is the initial condition.  The n+1st column is the position vector after step n. "
   ]
  },
  {
   "cell_type": "code",
   "execution_count": 21,
   "outputs": [],
   "source": [
    "def compute_trajectory(q0, p0, h, N, one_step=euler_step, force_field=trimer_force):\n",
    "    q_traj = q0\n",
    "    p_traj = p0\n",
    "    t_traj = [0]\n",
    "    \n",
    "    q, p, t = q0, p0, 0\n",
    "    \n",
    "    for n in range(0, N):\n",
    "        q,p = one_step(q, p, h, force_field)\n",
    "        t += h\n",
    "        \n",
    "        q_traj = np.column_stack((q_traj, q))\n",
    "        p_traj = np.column_stack((p_traj, p))\n",
    "        t_traj.append(t)\n",
    "        \n",
    "    return q_traj, p_traj"
   ],
   "metadata": {
    "collapsed": false,
    "ExecuteTime": {
     "end_time": "2023-10-21T14:27:55.221465Z",
     "start_time": "2023-10-21T14:27:55.216663Z"
    }
   }
  },
  {
   "cell_type": "markdown",
   "metadata": {
    "tags": []
   },
   "source": [
    "**Exercise 1d - accuracy comparisons [8 marks]:** implement the leapfrog method using the same approach as in Exercise 1b. \n",
    "For a system in the form $\\dot{q} = p$, $\\dot{p} = f(q)$, this method is given by\n",
    "$$ \\left| \\begin{array}{rcl} \n",
    "p_{n+1/2}&:=&p_n + (h/2)\\, f( q_n )\\\\\n",
    "\\qquad q_{n+1}&:=&q_n + h\\, p_{n+1/2}\\\\\n",
    "p_{n+1}&:=&p_{n+1/2} + (h/2)\\, f( q_{n+1} )\\\\\n",
    "\\end{array}\\right.$$\n",
    "Using N steps of size h= 1/N, compare the accuracy of the two methods at time 1.   Use the same approach discussed in Lecture 3.  First produce an accurate \"reference\" or baseline solution using a very small stepsize (h=1e-5), then compare the results you obtain for larger stepsizes (1e-4, 1e-3, 1e-2) using each of the two methods.  You should consider different choices of the stepsize besides those mentioned in order to ensure that you see the asymptotic behavior for small stepsize).   All of the comparisons can be done at time 1.  **Use a loglog graph** to compare the error behaviors (where the x-axis is the stepsize in log scale and the y-axis is the error at time t=1).   Discuss the results (at most around 200 words are needed)."
   ]
  },
  {
   "cell_type": "code",
   "execution_count": 22,
   "outputs": [],
   "source": [
    "def leapfrog_step(q, p, h, force_field=trimer_force):\n",
    "    # Compute the half step momentum update\n",
    "    f = force_field(q)\n",
    "    p_half = p + (h / 2) * f\n",
    "\n",
    "    # Compute the full step position update\n",
    "    q_next = q + h * p_half\n",
    "\n",
    "    # Compute the force at the updated position\n",
    "    f_next = force_field(q_next)\n",
    "\n",
    "    # Compute the full step momentum update\n",
    "    p_next = p_half + (h / 2) * f_next\n",
    "\n",
    "    return q_next, p_next"
   ],
   "metadata": {
    "collapsed": false,
    "ExecuteTime": {
     "end_time": "2023-10-21T14:27:59.083463Z",
     "start_time": "2023-10-21T14:27:59.076537Z"
    }
   }
  },
  {
   "cell_type": "code",
   "execution_count": 24,
   "outputs": [],
   "source": [
    "# For the accuracy comparison:\n",
    "def compute_error_at_time_1(h, one_step, q0, p0):\n",
    "    N = int(1 / h)\n",
    "    q_traj, p_traj = compute_trajectory(q0, p0, h, N, one_step=one_step)\n",
    "    # Assuming the \"reference\" or baseline solution is obtained with h = 1e-5\n",
    "    q_ref, p_ref = compute_trajectory(q0, p0, 1e-5, int(1 / 1e-5), one_step=one_step)\n",
    "    error = np.linalg.norm(q_traj[:, -1] - q_ref[:, -1])  # Computing error at time 1\n",
    "    return error"
   ],
   "metadata": {
    "collapsed": false,
    "ExecuteTime": {
     "end_time": "2023-10-21T14:28:23.646105Z",
     "start_time": "2023-10-21T14:28:23.641688Z"
    }
   }
  },
  {
   "cell_type": "code",
   "execution_count": 25,
   "outputs": [
    {
     "ename": "ValueError",
     "evalue": "Integers to negative integer powers are not allowed.",
     "output_type": "error",
     "traceback": [
      "\u001B[0;31m---------------------------------------------------------------------------\u001B[0m",
      "\u001B[0;31mValueError\u001B[0m                                Traceback (most recent call last)",
      "Cell \u001B[0;32mIn[25], line 5\u001B[0m\n\u001B[1;32m      2\u001B[0m p0 \u001B[38;5;241m=\u001B[39m np\u001B[38;5;241m.\u001B[39marray([\u001B[38;5;241m0\u001B[39m, \u001B[38;5;241m0\u001B[39m])\n\u001B[1;32m      4\u001B[0m step_sizes \u001B[38;5;241m=\u001B[39m [\u001B[38;5;241m1e-4\u001B[39m, \u001B[38;5;241m1e-3\u001B[39m, \u001B[38;5;241m1e-2\u001B[39m]\n\u001B[0;32m----> 5\u001B[0m errors_euler \u001B[38;5;241m=\u001B[39m [\u001B[43mcompute_error_at_time_1\u001B[49m\u001B[43m(\u001B[49m\u001B[43mh\u001B[49m\u001B[43m,\u001B[49m\u001B[43m \u001B[49m\u001B[43meuler_step\u001B[49m\u001B[43m,\u001B[49m\u001B[43m \u001B[49m\u001B[43mq0\u001B[49m\u001B[43m,\u001B[49m\u001B[43m \u001B[49m\u001B[43mp0\u001B[49m\u001B[43m)\u001B[49m \u001B[38;5;28;01mfor\u001B[39;00m h \u001B[38;5;129;01min\u001B[39;00m step_sizes]\n\u001B[1;32m      6\u001B[0m errors_leapfrog \u001B[38;5;241m=\u001B[39m [compute_error_at_time_1(h, leapfrog_step, q0, p0) \u001B[38;5;28;01mfor\u001B[39;00m h \u001B[38;5;129;01min\u001B[39;00m step_sizes]\n\u001B[1;32m      8\u001B[0m plt\u001B[38;5;241m.\u001B[39mloglog(step_sizes, errors_euler, label\u001B[38;5;241m=\u001B[39m\u001B[38;5;124m'\u001B[39m\u001B[38;5;124mEuler Method\u001B[39m\u001B[38;5;124m'\u001B[39m)\n",
      "Cell \u001B[0;32mIn[24], line 4\u001B[0m, in \u001B[0;36mcompute_error_at_time_1\u001B[0;34m(h, one_step, q0, p0)\u001B[0m\n\u001B[1;32m      2\u001B[0m \u001B[38;5;28;01mdef\u001B[39;00m \u001B[38;5;21mcompute_error_at_time_1\u001B[39m(h, one_step, q0, p0):\n\u001B[1;32m      3\u001B[0m     N \u001B[38;5;241m=\u001B[39m \u001B[38;5;28mint\u001B[39m(\u001B[38;5;241m1\u001B[39m \u001B[38;5;241m/\u001B[39m h)\n\u001B[0;32m----> 4\u001B[0m     q_traj, p_traj \u001B[38;5;241m=\u001B[39m \u001B[43mcompute_trajectory\u001B[49m\u001B[43m(\u001B[49m\u001B[43mq0\u001B[49m\u001B[43m,\u001B[49m\u001B[43m \u001B[49m\u001B[43mp0\u001B[49m\u001B[43m,\u001B[49m\u001B[43m \u001B[49m\u001B[43mh\u001B[49m\u001B[43m,\u001B[49m\u001B[43m \u001B[49m\u001B[43mN\u001B[49m\u001B[43m,\u001B[49m\u001B[43m \u001B[49m\u001B[43mone_step\u001B[49m\u001B[38;5;241;43m=\u001B[39;49m\u001B[43mone_step\u001B[49m\u001B[43m)\u001B[49m\n\u001B[1;32m      5\u001B[0m     \u001B[38;5;66;03m# Assuming the \"reference\" or baseline solution is obtained with h = 1e-5\u001B[39;00m\n\u001B[1;32m      6\u001B[0m     q_ref, p_ref \u001B[38;5;241m=\u001B[39m compute_trajectory(q0, p0, \u001B[38;5;241m1e-5\u001B[39m, \u001B[38;5;28mint\u001B[39m(\u001B[38;5;241m1\u001B[39m \u001B[38;5;241m/\u001B[39m \u001B[38;5;241m1e-5\u001B[39m), one_step\u001B[38;5;241m=\u001B[39mone_step)\n",
      "Cell \u001B[0;32mIn[21], line 9\u001B[0m, in \u001B[0;36mcompute_trajectory\u001B[0;34m(q0, p0, h, N, one_step, force_field)\u001B[0m\n\u001B[1;32m      6\u001B[0m q, p, t \u001B[38;5;241m=\u001B[39m q0, p0, \u001B[38;5;241m0\u001B[39m\n\u001B[1;32m      8\u001B[0m \u001B[38;5;28;01mfor\u001B[39;00m n \u001B[38;5;129;01min\u001B[39;00m \u001B[38;5;28mrange\u001B[39m(\u001B[38;5;241m0\u001B[39m, N):\n\u001B[0;32m----> 9\u001B[0m     q,p \u001B[38;5;241m=\u001B[39m \u001B[43mone_step\u001B[49m\u001B[43m(\u001B[49m\u001B[43mq\u001B[49m\u001B[43m,\u001B[49m\u001B[43m \u001B[49m\u001B[43mp\u001B[49m\u001B[43m,\u001B[49m\u001B[43m \u001B[49m\u001B[43mh\u001B[49m\u001B[43m,\u001B[49m\u001B[43m \u001B[49m\u001B[43mforce_field\u001B[49m\u001B[43m)\u001B[49m\n\u001B[1;32m     10\u001B[0m     t \u001B[38;5;241m+\u001B[39m\u001B[38;5;241m=\u001B[39m h\n\u001B[1;32m     12\u001B[0m     q_traj \u001B[38;5;241m=\u001B[39m np\u001B[38;5;241m.\u001B[39mcolumn_stack((q_traj, q))\n",
      "Cell \u001B[0;32mIn[20], line 7\u001B[0m, in \u001B[0;36meuler_step\u001B[0;34m(q, p, h, force_field)\u001B[0m\n\u001B[1;32m      4\u001B[0m p_x, p_y \u001B[38;5;241m=\u001B[39m p\n\u001B[1;32m      6\u001B[0m \u001B[38;5;66;03m# Compute the force at the current position\u001B[39;00m\n\u001B[0;32m----> 7\u001B[0m f \u001B[38;5;241m=\u001B[39m \u001B[43mforce_field\u001B[49m\u001B[43m(\u001B[49m\u001B[43mq\u001B[49m\u001B[43m)\u001B[49m\n\u001B[1;32m      9\u001B[0m \u001B[38;5;66;03m# Update the position and momentum vectors using the Euler method\u001B[39;00m\n\u001B[1;32m     10\u001B[0m Q \u001B[38;5;241m=\u001B[39m np\u001B[38;5;241m.\u001B[39marray([q_x \u001B[38;5;241m+\u001B[39m h \u001B[38;5;241m*\u001B[39m p_x, q_y \u001B[38;5;241m+\u001B[39m h \u001B[38;5;241m*\u001B[39m p_y])\n",
      "Cell \u001B[0;32mIn[19], line 13\u001B[0m, in \u001B[0;36mtrimer_force\u001B[0;34m(q)\u001B[0m\n\u001B[1;32m     10\u001B[0m r \u001B[38;5;241m=\u001B[39m np\u001B[38;5;241m.\u001B[39msqrt(x\u001B[38;5;241m*\u001B[39m\u001B[38;5;241m*\u001B[39m\u001B[38;5;241m2\u001B[39m \u001B[38;5;241m+\u001B[39m y\u001B[38;5;241m*\u001B[39m\u001B[38;5;241m*\u001B[39m\u001B[38;5;241m2\u001B[39m)\n\u001B[1;32m     11\u001B[0m phi_lj_der_r \u001B[38;5;241m=\u001B[39m phi_lj_der(r)\n\u001B[0;32m---> 13\u001B[0m der_wrt_x \u001B[38;5;241m=\u001B[39m \u001B[38;5;241m2\u001B[39m \u001B[38;5;241m*\u001B[39m phi_lj_der_r \u001B[38;5;241m*\u001B[39m x \u001B[38;5;241m/\u001B[39m r \u001B[38;5;241m+\u001B[39m \u001B[38;5;241m2\u001B[39m \u001B[38;5;241m*\u001B[39m \u001B[43mphi_lj_der\u001B[49m\u001B[43m(\u001B[49m\u001B[38;5;241;43m2\u001B[39;49m\u001B[43m \u001B[49m\u001B[38;5;241;43m*\u001B[39;49m\u001B[43m \u001B[49m\u001B[43mx\u001B[49m\u001B[43m)\u001B[49m\n\u001B[1;32m     14\u001B[0m der_wrt_y \u001B[38;5;241m=\u001B[39m \u001B[38;5;241m2\u001B[39m \u001B[38;5;241m*\u001B[39m phi_lj_der_r \u001B[38;5;241m*\u001B[39m y \u001B[38;5;241m/\u001B[39m r\n\u001B[1;32m     16\u001B[0m f[\u001B[38;5;241m0\u001B[39m] \u001B[38;5;241m=\u001B[39m \u001B[38;5;241m-\u001B[39mder_wrt_x\n",
      "Cell \u001B[0;32mIn[18], line 2\u001B[0m, in \u001B[0;36mphi_lj_der\u001B[0;34m(r)\u001B[0m\n\u001B[1;32m      1\u001B[0m \u001B[38;5;28;01mdef\u001B[39;00m \u001B[38;5;21mphi_lj_der\u001B[39m(r):\n\u001B[0;32m----> 2\u001B[0m     yp \u001B[38;5;241m=\u001B[39m \u001B[38;5;241m-\u001B[39m\u001B[38;5;241m12\u001B[39m \u001B[38;5;241m*\u001B[39m \u001B[43mr\u001B[49m\u001B[38;5;241;43m*\u001B[39;49m\u001B[38;5;241;43m*\u001B[39;49m\u001B[43m(\u001B[49m\u001B[38;5;241;43m-\u001B[39;49m\u001B[38;5;241;43m13\u001B[39;49m\u001B[43m)\u001B[49m \u001B[38;5;241m+\u001B[39m \u001B[38;5;241m6\u001B[39m \u001B[38;5;241m*\u001B[39m r\u001B[38;5;241m*\u001B[39m\u001B[38;5;241m*\u001B[39m(\u001B[38;5;241m-\u001B[39m\u001B[38;5;241m7\u001B[39m)\n\u001B[1;32m      3\u001B[0m     \u001B[38;5;28;01mreturn\u001B[39;00m yp\n",
      "\u001B[0;31mValueError\u001B[0m: Integers to negative integer powers are not allowed."
     ]
    }
   ],
   "source": [
    "q0 = np.array([1, 1])\n",
    "p0 = np.array([0, 0])\n",
    "\n",
    "step_sizes = [1e-4, 1e-3, 1e-2]\n",
    "errors_euler = [compute_error_at_time_1(h, euler_step, q0, p0) for h in step_sizes]\n",
    "errors_leapfrog = [compute_error_at_time_1(h, leapfrog_step, q0, p0) for h in step_sizes]\n",
    "\n",
    "plt.loglog(step_sizes, errors_euler, label='Euler Method')\n",
    "plt.loglog(step_sizes, errors_leapfrog, label='Leapfrog Method')\n",
    "plt.xlabel('Stepsize')\n",
    "plt.ylabel('Error at time 1')\n",
    "plt.legend()\n",
    "plt.show()"
   ],
   "metadata": {
    "collapsed": false,
    "ExecuteTime": {
     "end_time": "2023-10-21T14:28:25.131402Z",
     "start_time": "2023-10-21T14:28:25.083719Z"
    }
   }
  },
  {
   "cell_type": "markdown",
   "metadata": {},
   "source": [
    "**Exercise 1e - energy error comparisons [6 marks]:** Implement an energy function, trimer_energy, which computes the energy as a function of q and p.  You should ideally design this function so that you can pass the trajectory (QQ,PP) to the function and have it compute the energies at all the steps.   Compare the energy growth against time for the two methods (Euler, leapfrog).  In this case you should **graph the energy** as a function of time for each trajectory.  You may choose much larger ending times than t=1, for example t=10, t=100 etc.  Perform enough runs using different stepsizes to gain a good understanding of the energy behavior of each method.   Briefly discuss the graphs.\n"
   ]
  },
  {
   "cell_type": "code",
   "execution_count": null,
   "outputs": [],
   "source": [],
   "metadata": {
    "collapsed": false
   }
  },
  {
   "cell_type": "markdown",
   "metadata": {},
   "source": [
    "# Twin Pendulum\n",
    "\n",
    "In this exercise you will modify the python code to compute solutions of a system of two particles moving in the plane. The particles will each be connected to the origin by a spring with rest length.  The particles also interact in a spring potential.\n",
    "\n",
    "We think of our position vector $q$ as holding the position data for the whole system, so $q=[q_1,q_2]=[q_{1,x},q_{1,y},q_{2,x},q_{2,y}]$, and, similarly, $p$ is a vector in $\\bf{R}^4$. We can write the new energy function as $$ H(q,p) = \\| p_1 \\|^2/2 + \\| p_2 \\|^2/2 + \\omega_1^2(\\|q_1\\|-1)^2+ \\omega_2^2(\\|q_2\\|-1)^2 + \\epsilon \\|q_1-q_2\\|^2/2$$\n",
    "Here $\\omega_1,\\omega_2$ are the frequencies of two nonlinear oscillators and $eps$ is the coupling coefficient."
   ]
  },
  {
   "cell_type": "markdown",
   "metadata": {},
   "source": [
    "**Exercise 2a [6]:**\n",
    "Define new functions  `twinpend_energy` and `twinpend_force` using the trimer functions as models.  You do not need to compare the Euler and leapfrog methods in this example, **just use the leapfrog scheme.**"
   ]
  },
  {
   "cell_type": "code",
   "execution_count": null,
   "outputs": [],
   "source": [],
   "metadata": {
    "collapsed": false
   }
  },
  {
   "cell_type": "markdown",
   "metadata": {},
   "source": [
    "**Exercise 2b [6]:**\n",
    "Set the constants $\\omega_1,\\omega_2$ equal to one.  Set $\\epsilon=0.1$ to represent a moderate coupling.  Take as initial condition $q_0 = [0,1,0,1]^T$ and $p_0 = [1,-1,1,1]^T$.  You will need to experiment a little: choose the stepsize by trial and error to get an accurate approximation of the true motion, but bear in mind the need to use a relatively large stepsize (e.g. $h=0.1$) in order to compute a reasonably long-term evolution of the system. Plot the trajectories of the two particles in the $(x,y)$ plane, on the same axes, with a separate curve for each particle.  Separately, plot the energy as a function of time.  "
   ]
  },
  {
   "cell_type": "code",
   "execution_count": null,
   "outputs": [],
   "source": [],
   "metadata": {
    "collapsed": false
   }
  },
  {
   "cell_type": "markdown",
   "metadata": {},
   "source": [
    "**Exercise 2c - evaluation and discussion [8]:**\n",
    "Using graphs and text, explore the motion of the twin pendulum system.    \n",
    "Are the solutions periodic?  Bounded?  Is this  a chaotic dynamical system?  \n",
    "Conduct further experiments to understand the system: what happens when you start them with different intial conditions?  With high velocities?  How does the choice of stepsize alter the behavior you observe?   Your answer for this part should comprise about one paragraph  (at most around 250 words) of English text, with a few graphs, all incorporated as markup in your jupyter notebook."
   ]
  },
  {
   "cell_type": "code",
   "execution_count": null,
   "outputs": [],
   "source": [],
   "metadata": {
    "collapsed": false
   }
  },
  {
   "cell_type": "markdown",
   "metadata": {},
   "source": [
    "**Exercise 2d - energy conservation and adiabatic separation at long times [10]:**\n",
    "In this exercise you will explore the conservation of total energy and the exchange of energy between two coupled pendula.  This related to the concept of adiabatic separation which plays an important role in physical models.\n",
    "\n",
    "Define two energies by $E_1 = \\| p_1 \\|^2/2 + \\omega_1^2(\\|q_1\\|-1)^2$ and $E_2 = \\| p_2 \\|^2/2 + \\omega_2^2(\\|q_2\\|-1)^2$. Note that the total energy in the twin pendulum system is the sum of $E_1$ and $E_2$ plus the coupling term $\\epsilon \\|q_1-q_2\\|^2/2$.  Create a function that takes QQ and PP and outputs arrays $E_1$, $E_2$ and $E$ which contain the corresponding energies at each step.\n",
    "\n",
    "Set $\\omega_1=\\omega_2=1$ and $\\epsilon =.1$.   Starting with the initial condition $q_0 = [0,-1,0,-1]^T$, $p_0 =[10,1,0,0]^T$, compute trajectories of the system and graph the trajectories in the $xy$-plane (separate curves for each particle). Use a stepsize $h=0.01$ and integrate for 1e5 steps.  Separately, plot the energies $E_1$ and $E_2$ over time.  Clearly the first subsystem starts with a higher initial energy than the second one ($E_1>>E_2$), but you should see that the energy gets exchanged rapidly between the two systems.  Despite this, you should also see that the total energy is well conserved, even when the time interval is fairly long.\n",
    "\n",
    "Now consider the behavior of the system as $h$ is changed from $h=0.01$ to $h=0.1$, with all other parameters the same as before (N=1e5 steps).  (You can explore what happens when N is increased even further, if your computer is powerful enough!)  You should observe that the energy is no longer well conserved.  How does the total energy conservation depend on the stepsize, all other things being constant?\n",
    "\n",
    "Try decreasing $\\epsilon$ to 0.01 (reducing the strength of the coupling) and repeat your tests.    How does the strength of the coupling effect the results?\n",
    "\n",
    "You may wish to explore what happens as you make the second frequency larger: $\\omega_2=10$.\n",
    "\n",
    "Your answer to this exercise should be around 500 words, maximum, supplemented by a few graphs."
   ]
  },
  {
   "cell_type": "code",
   "execution_count": null,
   "outputs": [],
   "source": [],
   "metadata": {
    "collapsed": false
   }
  }
 ],
 "metadata": {
  "kernelspec": {
   "display_name": "Python 3 (ipykernel)",
   "language": "python",
   "name": "python3"
  },
  "language_info": {
   "codemirror_mode": {
    "name": "ipython",
    "version": 3
   },
   "file_extension": ".py",
   "mimetype": "text/x-python",
   "name": "python",
   "nbconvert_exporter": "python",
   "pygments_lexer": "ipython3",
   "version": "3.11.4"
  }
 },
 "nbformat": 4,
 "nbformat_minor": 4
}
